{
 "cells": [
  {
   "cell_type": "code",
   "execution_count": null,
   "metadata": {},
   "outputs": [],
   "source": [
    "import numpy as np\n",
    "import matplotlib.pyplot as plt"
   ]
  },
  {
   "cell_type": "code",
   "execution_count": 1,
   "metadata": {},
   "outputs": [
    {
     "ename": "NameError",
     "evalue": "name 'np' is not defined",
     "output_type": "error",
     "traceback": [
      "\u001b[1;31m---------------------------------------------------------------------------\u001b[0m",
      "\u001b[1;31mNameError\u001b[0m                                 Traceback (most recent call last)",
      "Cell \u001b[1;32mIn[1], line 1\u001b[0m\n\u001b[1;32m----> 1\u001b[0m v \u001b[38;5;241m=\u001b[39m \u001b[43mnp\u001b[49m\u001b[38;5;241m.\u001b[39marray([\u001b[38;5;241m1\u001b[39m, \u001b[38;5;241m1\u001b[39m])\n\u001b[0;32m      2\u001b[0m w \u001b[38;5;241m=\u001b[39m np\u001b[38;5;241m.\u001b[39marray([\u001b[38;5;241m-\u001b[39m\u001b[38;5;241m2\u001b[39m, \u001b[38;5;241m-\u001b[39m\u001b[38;5;241m1\u001b[39m])\n\u001b[0;32m      4\u001b[0m plt\u001b[38;5;241m.\u001b[39mquiver(\u001b[38;5;241m0\u001b[39m, \u001b[38;5;241m0\u001b[39m, v[\u001b[38;5;241m0\u001b[39m], v[\u001b[38;5;241m1\u001b[39m], angles \u001b[38;5;241m=\u001b[39m \u001b[38;5;124m\"\u001b[39m\u001b[38;5;124mxy\u001b[39m\u001b[38;5;124m\"\u001b[39m, scale_units \u001b[38;5;241m=\u001b[39m \u001b[38;5;124m\"\u001b[39m\u001b[38;5;124mxy\u001b[39m\u001b[38;5;124m\"\u001b[39m, scale \u001b[38;5;241m=\u001b[39m \u001b[38;5;241m1\u001b[39m, color \u001b[38;5;241m=\u001b[39m \u001b[38;5;124m\"\u001b[39m\u001b[38;5;124mr\u001b[39m\u001b[38;5;124m\"\u001b[39m)\n",
      "\u001b[1;31mNameError\u001b[0m: name 'np' is not defined"
     ]
    }
   ],
   "source": [
    "v = np.array([1, 1])\n",
    "w = np.array([-2, -1])\n",
    "\n",
    "plt.quiver(0, 0, v[0], v[1], angles = \"xy\", scale_units = \"xy\", scale = 1, color = \"r\")\n",
    "plt.quiver(0, 0, w[0], w[1], angles = \"xy\", scale_units = \"xy\", scale = 1, color = \"b\")\n",
    "\n",
    "plt.xlim(-3, 3)\n",
    "plt.ylim(-3, 3)\n",
    "plt.grid(linestyle = \":\")\n",
    "plt.show()"
   ]
  },
  {
   "cell_type": "code",
   "execution_count": 2,
   "metadata": {},
   "outputs": [
    {
     "ename": "NameError",
     "evalue": "name 'v' is not defined",
     "output_type": "error",
     "traceback": [
      "\u001b[1;31m---------------------------------------------------------------------------\u001b[0m",
      "\u001b[1;31mNameError\u001b[0m                                 Traceback (most recent call last)",
      "Cell \u001b[1;32mIn[2], line 1\u001b[0m\n\u001b[1;32m----> 1\u001b[0m \u001b[43mv\u001b[49m[:, \u001b[38;5;241m0\u001b[39m]\n",
      "\u001b[1;31mNameError\u001b[0m: name 'v' is not defined"
     ]
    }
   ],
   "source": [
    "V[:, 0]"
   ]
  },
  {
   "cell_type": "code",
   "execution_count": null,
   "metadata": {},
   "outputs": [],
   "source": [
    "V = np.array([[1, 1],\n",
    "            [-2, 2],\n",
    "            [4, -7]]),\n",
    "\n",
    "origin = np.array([0,0,0],\n",
    "                [0,0,0])\n",
    "# print(origin)\n",
    "# print(*origin)\n",
    "\n",
    "plt.quiver(*origin, V[:,0],V[:, 1], angles = \"xy\", scale_units = \"xy\", scale= 1, color = [\"r\", \"g\", \"c\"])\n",
    "plt.grid(linestyle = \":\")\n",
    "plt.xlim(-10,10)\n",
    "plt.ylim(-10, 10)\n",
    "plt.show()\n",
    "\n",
    "# print(\"V = \\n\", V)\n",
    "# print(\"Shape of V\", V.shape)\n",
    "# print(\"Dtype of V\", V.dtype)"
   ]
  },
  {
   "cell_type": "code",
   "execution_count": null,
   "metadata": {},
   "outputs": [],
   "source": [
    "## Projection vector\n",
    "def projection_vec(base_vec, proj_vec):\n",
    "    scale = np.inner(base_vec, proj_vec) / np.linalg.norm(base_vec) **2\n",
    "    p_vec = scale*base_vec\n",
    "    plt.quiver(0,0,base_vec[0], base_vec[1], angles = \"xy\", scale_units =\"xy\", color =\"r\", scale = 1, label = \"Base vector\")\n",
    "    plt.quiver(0,0,proj_vec[0], proj_vec[1], angles = \"xy\", scale_units =\"xy\", color =\"g\", scale = 1, label = \"Target vector\")\n",
    "    plt.quiver(0,0,p_vec[0], p_vec[1], angles = \"xy\", scale_units =\"xy\", color =\"b\", scale = 1, label = \"Project vector\")\n",
    "\n",
    "    plt.xlim(-8,5)\n",
    "    plt.ylim(-8, 5)\n",
    "    plt.grid(linestyle = \":\")\n",
    "    plt.legend\n",
    "    plt.show()\n",
    "\n",
    "projection_vec(np.array([-2,1]),np.array([-6,4]))"
   ]
  }
 ],
 "metadata": {
  "kernelspec": {
   "display_name": "Python 3",
   "language": "python",
   "name": "python3"
  },
  "language_info": {
   "codemirror_mode": {
    "name": "ipython",
    "version": 3
   },
   "file_extension": ".py",
   "mimetype": "text/x-python",
   "name": "python",
   "nbconvert_exporter": "python",
   "pygments_lexer": "ipython3",
   "version": "3.12.4"
  }
 },
 "nbformat": 4,
 "nbformat_minor": 2
}
