{
 "cells": [
  {
   "cell_type": "code",
   "execution_count": null,
   "metadata": {},
   "outputs": [],
   "source": [
    "!pip install matplotlib\n",
    "!pip install ipykernel"
   ]
  },
  {
   "cell_type": "code",
   "execution_count": 1,
   "metadata": {},
   "outputs": [
    {
     "name": "stdout",
     "output_type": "stream",
     "text": [
      "hello\n"
     ]
    }
   ],
   "source": [
    "print('hello')"
   ]
  },
  {
   "cell_type": "code",
   "execution_count": 2,
   "metadata": {},
   "outputs": [],
   "source": [
    "import numpy as np\n",
    "import matplotlib.pyplot as plt"
   ]
  },
  {
   "cell_type": "code",
   "execution_count": 2,
   "metadata": {},
   "outputs": [
    {
     "ename": "SyntaxError",
     "evalue": "invalid syntax. Perhaps you forgot a comma? (2422721142.py, line 7)",
     "output_type": "error",
     "traceback": [
      "\u001b[1;36m  Cell \u001b[1;32mIn[2], line 7\u001b[1;36m\u001b[0m\n\u001b[1;33m    plt.plot(x, y np.cos(x), label = \"2*cos(2*x) -1\")\u001b[0m\n\u001b[1;37m                ^\u001b[0m\n\u001b[1;31mSyntaxError\u001b[0m\u001b[1;31m:\u001b[0m invalid syntax. Perhaps you forgot a comma?\n"
     ]
    }
   ],
   "source": [
    "## cos \n",
    "x = np.linespace(-2*np.pi, 2*np.pi, 100)\n",
    "y = 2*np.cos(2*x) -1\n",
    "\n",
    "plt.figure(figsuze = (12,5))\n",
    "plt.plot(x, np.cos(x), label = \"cos(x)\")\n",
    "plt.plot(x, y np.cos(x), label = \"2*cos(2*x) -1\")\n",
    "plt.legend()\n",
    "plt.grid(linestyle =\":\")\n",
    "plt.show()"
   ]
  },
  {
   "cell_type": "code",
   "execution_count": null,
   "metadata": {},
   "outputs": [],
   "source": [
    "def polynomial(x, n):\n",
    "    y = x**n\n",
    "    return y\n",
    "\n",
    "x = np.linspace(-4, 4, 100)\n",
    "# print(x)\n",
    "y = polynomial(x,1) #linear fun\n",
    "y2 = polynomial(x,2)\n",
    "y3 = polynomial(x,3)\n",
    "\n",
    "plt.plot(x, y, label = \"y = x\")\n",
    "plt.plot(x, y2, label = \"y = x^2\")\n",
    "plt.plot(x, y3, label = \"y = x^3\")\n",
    "plt.plot(x,polynomial(x,4), label = \"y = x^4\")\n",
    "\n",
    "plt.title(\"polymomial curve\")\n",
    "plt.xlabel(\"X\")\n",
    "plt.ylabel(\"f(x)\")\n",
    "plt.legend()\n",
    "plt.ylim(-2, 2)\n",
    "plt.xlim(-2, 2)\n",
    "\n",
    "plt.grid(linestyle = \":\")\n",
    "plt.show()"
   ]
  },
  {
   "cell_type": "code",
   "execution_count": null,
   "metadata": {},
   "outputs": [],
   "source": [
    "## 삼각함수"
   ]
  },
  {
   "cell_type": "code",
   "execution_count": null,
   "metadata": {},
   "outputs": [],
   "source": [
    "print(np.pi)"
   ]
  },
  {
   "cell_type": "code",
   "execution_count": null,
   "metadata": {},
   "outputs": [],
   "source": [
    "# x 범위 설정\n",
    "x = np.linspace(-2 * np.pi, 2 * np.pi, 100)\n",
    "\n",
    "# 함수 값 계산\n",
    "sin_x = np.sin(x)\n",
    "cos_x = np.cos(x)\n",
    "tan_x = np.tan(x)\n",
    "\n",
    "plt.figure(figsize=(12, 5))\n",
    "\n",
    "\n",
    "# plt.plot(x, sin_x, label=\"sin(x)\")\n",
    "# plt.plot(x, cos_x, label=\"cos(x)\")\n",
    "plt.plot(x, tan_x, label=\"tan(x)\")\n",
    "\n",
    "# y축에 수직선 추가\n",
    "plt.vlines(0, -1, 1, color=\"r\")\n",
    "# x축에 수평선 추가\n",
    "plt.hlines(0, -2 * np.pi, 2 * np.pi, color=\"r\")  \n",
    "\n",
    "\n",
    "\n",
    "# x축 눈금과 레이블 설정\n",
    "plt.xticks([-2 * np.pi, -np.pi, 0, np.pi, 2 * np.pi], labels=[\"-2pi\", \"-pi\", \"0\", \"pi\", \"2pi\"])\n",
    "\n",
    "# 그래프의 범위 설정\n",
    "plt.ylim(-1, 1)\n",
    "plt.xlim(-2 * np.pi, 2 * np.pi)\n",
    "\n",
    "# 범례 추가 및 그리드 스타일 설정\n",
    "plt.legend()\n",
    "plt.grid(linestyle=\":\")\n",
    "plt.show()"
   ]
  },
  {
   "cell_type": "code",
   "execution_count": null,
   "metadata": {},
   "outputs": [],
   "source": [
    "\n",
    "x = np.linspace(-2 * np.pi, 2 * np.pi, 100)\n",
    "\n",
    "# 함수 값 계산\n",
    "sin_x = np.sin(x)\n",
    "cos_x = np.cos(x)\n",
    "tan_x = np.tan(x)\n",
    "\n",
    "y_list = [sin_x,cos_x,tan_x]\n",
    "y_label = [\"sin(x)\",\"cos(x)\",\"tan(x)\"]\n",
    "color_list = [\"b\", \"g\", \"r\"]\n",
    "fig, ax = plt.subplots(3,1, figsize = (12, 10))\n",
    "for i in range(3):\n",
    "    ax[i].plot(x,y_list[i], label = y_label[i], c = color_list[i])\n",
    "    ax[i].set_ylim(-1, 1)\n",
    "    ax[i].grid(linestyle = \":\")\n",
    "    ax[i].set_xticks([-2*np.pi, -np.pi, 0, np.pi, 2*np.pi], labels=[\"-2pi,\", \"pi\", \"0\",\"pi\",\"2pi\"])\n",
    "\n",
    "plt.show()    \n"
   ]
  },
  {
   "cell_type": "code",
   "execution_count": null,
   "metadata": {},
   "outputs": [],
   "source": [
    "\n",
    "import numpy as np\n",
    "import matplotlib.pyplot as plt\n",
    "\n",
    "x = np.linspace(-2*np.pi, 2*np.pi, 100)\n",
    "y = np.sin(x)\n",
    "y1 = np.sin(x - np.pi) + 1\n",
    "\n",
    "plt.figure(figsize = (12, 5))\n",
    "plt.plot(x, y, label = \"sin(x)\")\n",
    "plt.plot(x, y1, label = \"sin(x - pi) + 1\")\n",
    "plt.xticks([-2*np.pi, -np.pi, 0, np.pi, 2*np.pi], labels = [\"-2pi\", \"-pi\", \"0\", \"pi\", \"2pi\"])\n",
    "plt.grid(linestyle = ':')\n",
    "plt.legend()\n",
    "plt.show()"
   ]
  },
  {
   "cell_type": "code",
   "execution_count": null,
   "metadata": {},
   "outputs": [],
   "source": [
    "# y = -sin x 의 그래프는 y = sin x 의 그래프를 x 축을 중심으로 선대칭이다\n",
    "x = np.linspace(-2*np.pi, 2*np.pi, 100)\n",
    "y = np.cos(x)\n",
    "y1 = -np.cos(x)\n",
    "\n",
    "plt.figure(figsize = (12, 5))\n",
    "plt.plot(x, y, label = \"cos(x)\")\n",
    "plt.plot(x, y1, label = \"-cos(x)\", linestyle = \":\")\n",
    "plt.xticks([-2*np.pi, -np.pi, 0, np.pi, 2*np.pi], labels = [\"-2pi\", \"-pi\", \"0\", \"pi\", \"2pi\"])\n",
    "plt.grid(linestyle = \":\")\n",
    "plt.legend()\n",
    "plt.show()"
   ]
  },
  {
   "cell_type": "code",
   "execution_count": null,
   "metadata": {},
   "outputs": [],
   "source": [
    "# y = a sin x 의 그래프는 y = sin x 의 함수값을 a배한 것이다\n",
    "x = np.linspace(-2*np.pi, 2*np.pi, 100)\n",
    "y = np.sin(x)\n",
    "y1 = 2*np.sin(x)\n",
    "\n",
    "plt.figure(figsize = (12, 5))\n",
    "plt.plot(x, y, label = \"cos(x)\")\n",
    "plt.plot(x, y1, label = \"2cos(x)\", linestyle = \":\")\n",
    "plt.xticks([-2*np.pi, -np.pi, 0, np.pi, 2*np.pi], labels = [\"-2pi\", \"-pi\", \"0\", \"pi\", \"2pi\"])\n",
    "plt.grid(linestyle = \":\")\n",
    "plt.legend()\n",
    "plt.show()"
   ]
  },
  {
   "cell_type": "code",
   "execution_count": null,
   "metadata": {},
   "outputs": [],
   "source": [
    "\n",
    "x = np.linspace(-2*np.pi, 2*np.pi, 100)\n",
    "y = np.cos(x)\n",
    "y1 = np.cos(2*x)\n",
    "\n",
    "plt.figure(figsize = (12, 5))\n",
    "plt.plot(x, y, label = \"cos(x)\")\n",
    "plt.plot(x, y1, label = \"cos(2*x)\", linestyle = \":\")\n",
    "plt.xticks([-2*np.pi, -np.pi, 0, np.pi, 2*np.pi], labels = [\"-2pi\", \"-pi\", \"0\", \"pi\", \"2pi\"])\n",
    "plt.grid(linestyle = \":\")\n",
    "plt.legend()\n",
    "plt.show()"
   ]
  },
  {
   "cell_type": "code",
   "execution_count": null,
   "metadata": {},
   "outputs": [],
   "source": [
    "\n",
    "x = np.linspace(-2*np.pi, 2*np.pi, 100)\n",
    "y = np.sin(x)\n",
    "y1 = np.sin(-x)\n",
    "\n",
    "plt.figure(figsize = (12, 5))\n",
    "plt.plot(x, y, label = \"sin(x)\")\n",
    "plt.plot(x, y1, label = \"sin(-x)\", linestyle = \":\")\n",
    "plt.xticks([-2*np.pi, -np.pi, 0, np.pi, 2*np.pi], labels = [\"-2pi\", \"-pi\", \"0\", \"pi\", \"2pi\"])\n",
    "plt.grid(linestyle = \":\")\n",
    "plt.legend()\n",
    "plt.show()"
   ]
  },
  {
   "cell_type": "code",
   "execution_count": null,
   "metadata": {},
   "outputs": [],
   "source": [
    "x = np.linspace(-2*np.pi, 2*np.pi, 100)\n",
    "y = 2 * np.sin(x)\n",
    "y1 = 2 * np.sin(x - np.pi/2) + 1\n",
    "\n",
    "plt.figure(figsize = (12, 5))\n",
    "plt.plot(x, y, label = r\"$2\\sin x$\")\n",
    "plt.plot(x, y1, label = r\"$2\\sin(x - \\frac{\\pi}{2}) + 1$\")\n",
    "plt.xticks([-2*np.pi, -np.pi, 0, np.pi, 2*np.pi], labels = [\"-2pi\", \"-pi\", \"0\", \"pi\", \"2pi\"])\n",
    "plt.grid(linestyle = ':')\n",
    "plt.legend()\n",
    "plt.show()"
   ]
  },
  {
   "cell_type": "code",
   "execution_count": null,
   "metadata": {},
   "outputs": [],
   "source": []
  }
 ],
 "metadata": {
  "kernelspec": {
   "display_name": "Python 3",
   "language": "python",
   "name": "python3"
  },
  "language_info": {
   "codemirror_mode": {
    "name": "ipython",
    "version": 3
   },
   "file_extension": ".py",
   "mimetype": "text/x-python",
   "name": "python",
   "nbconvert_exporter": "python",
   "pygments_lexer": "ipython3",
   "version": "3.12.4"
  }
 },
 "nbformat": 4,
 "nbformat_minor": 2
}
