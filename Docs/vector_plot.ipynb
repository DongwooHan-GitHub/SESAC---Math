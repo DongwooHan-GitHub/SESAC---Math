{
 "cells": [
  {
   "cell_type": "code",
   "execution_count": null,
   "metadata": {},
   "outputs": [],
   "source": [
    "import numpy as np\n",
    "import matplotlib.pyplot as plt"
   ]
  },
  {
   "cell_type": "code",
   "execution_count": null,
   "metadata": {},
   "outputs": [],
   "source": [
    "v = np.array([1, 1])\n",
    "w = np.array([-2, -,1])\n",
    "\n",
    "plt.quiver(0, 0, v[0], v[1], angles = \"xy\", scale_units = \"xy\", scale = 1, color = \"r\")\n",
    "plt.quiver(0, 0, w[0], w[1], angles = \"xy\", scale_units = \"xy\", scale = 1, color = \"b\")\n",
    "\n",
    "plt.xlim(-3, 3)\n",
    "plt.ylim(-3, 3)\n",
    "plt.grid(linestyle = \":\")\n",
    "plt.show()"
   ]
  },
  {
   "cell_type": "code",
   "execution_count": null,
   "metadata": {},
   "outputs": [],
   "source": []
  },
  {
   "cell_type": "code",
   "execution_count": null,
   "metadata": {},
   "outputs": [],
   "source": [
    "V[:, 0]"
   ]
  },
  {
   "cell_type": "code",
   "execution_count": null,
   "metadata": {},
   "outputs": [],
   "source": [
    "V = np.array([[1, 1],\n",
    "            [-2, 2],\n",
    "            [4, -7]]),\n",
    "\n",
    "origin = np.array([0,0,0],\n",
    "                [0,0,0])\n",
    "# print(origin)\n",
    "# print(*origin)\n",
    "\n",
    "plt.quiver(*origin, V[:,0],V[:, 1], angles = \"xy\", scale_units = \"xy\", scale= 1, color = [\"r\", \"g\", \"c\"])\n",
    "plt.grid(linestyle = \":\")\n",
    "plt.xlim(-10,10)\n",
    "plt.ylim(-10, 10)\n",
    "plt.show()\n",
    "\n",
    "# print(\"V = \\n\", V)\n",
    "# print(\"Shape of V\", V.shape)\n",
    "# print(\"Dtype of V\", V.dtype)"
   ]
  },
  {
   "cell_type": "code",
   "execution_count": null,
   "metadata": {},
   "outputs": [],
   "source": [
    "## Projection vector\n",
    "def projection_vec(base_vec, proj_vec):\n",
    "    scale = np.inner(base_vec, proj_vec) / np.linalg.norm(base_vec) **2\n",
    "    p_vec = scale*base_vec\n",
    "    plt.quiver(0,0,base_vec[0], base_vec[1], angles = \"xy\", scale_units =\"xy\", color =\"r\", scale = 1, label = \"Base vector\")\n",
    "    plt.quiver(0,0,proj_vec[0], proj_vec[1], angles = \"xy\", scale_units =\"xy\", color =\"g\", scale = 1, label = \"Target vector\")\n",
    "    plt.quiver(0,0,p_vec[0], p_vec[1], angles = \"xy\", scale_units =\"xy\", color =\"b\", scale = 1, label = \"Project vector\")\n",
    "\n",
    "    plt.xlim(-8,5)\n",
    "    plt.ylim(-8, 5)\n",
    "    plt.grid(linestyle = \":\")\n",
    "    plt.legend\n",
    "    plt.show()\n",
    "\n",
    "projection_vec(np.array([-2,1]),np.array([-6,4]))"
   ]
  }
 ],
 "metadata": {
  "kernelspec": {
   "display_name": "Python 3",
   "language": "python",
   "name": "python3"
  },
  "language_info": {
   "name": "python",
   "version": "3.11.9"
  }
 },
 "nbformat": 4,
 "nbformat_minor": 2
}
