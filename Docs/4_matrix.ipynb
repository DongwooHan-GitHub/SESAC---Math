{
 "cells": [
  {
   "cell_type": "code",
   "execution_count": 2,
   "metadata": {},
   "outputs": [
    {
     "name": "stdout",
     "output_type": "stream",
     "text": [
      "Matrix A = \n",
      " [[ 2  3  4]\n",
      " [10 20 30]]\n",
      "Matrix Of A =  (2, 3)\n",
      "Dtype of A =  int32\n",
      "Matrix B = \n",
      " [[ 2.  3.  4.]\n",
      " [10. 20. 30.]]\n",
      "Matrix Of B =  (2, 3)\n",
      "Dtype of B =  float32\n"
     ]
    }
   ],
   "source": [
    "import numpy as np\n",
    "import matplotlib.pyplot as plt\n",
    "\n",
    "A = np.array([[2,3,4],\n",
    "            [10,20,30]])\n",
    "\n",
    "B = np.array([[2,3,4],\n",
    "            [10,20,30]], dtype = np.float32)            \n",
    "\n",
    "print(\"Matrix A = \\n\", A)\n",
    "print(\"Matrix Of A = \", A.shape)\n",
    "print(\"Dtype of A = \", A.dtype)\n",
    "\n",
    "print(\"Matrix B = \\n\", B)\n",
    "print(\"Matrix Of B = \", B.shape)\n",
    "print(\"Dtype of B = \", B.dtype)"
   ]
  },
  {
   "cell_type": "code",
   "execution_count": 3,
   "metadata": {},
   "outputs": [
    {
     "name": "stdout",
     "output_type": "stream",
     "text": [
      "D_1 = \n",
      " [[1 0 0 0]\n",
      " [0 2 0 0]\n",
      " [0 0 3 0]\n",
      " [0 0 0 4]]\n",
      "D_2 = \n",
      " [[9 0 0 0 0]\n",
      " [0 5 0 0 0]\n",
      " [0 0 8 0 0]\n",
      " [0 0 0 3 0]\n",
      " [0 0 0 0 9]]\n"
     ]
    }
   ],
   "source": [
    "## Diagonal\n",
    "a = np.array([1, 2, 3, 4])\n",
    "D_1 = np.diag(a)\n",
    "print(\"D_1 = \\n\", D_1)\n",
    "\n",
    "b = np.random.randint(1,10,5)\n",
    "D_2 = np.diag(b) \n",
    "print(\"D_2 = \\n\", D_2)"
   ]
  },
  {
   "cell_type": "code",
   "execution_count": 4,
   "metadata": {},
   "outputs": [
    {
     "name": "stdout",
     "output_type": "stream",
     "text": [
      "3 x 3 Identity = \n",
      " [[1. 0. 0.]\n",
      " [0. 1. 0.]\n",
      " [0. 0. 1.]]\n",
      "5 x 5 Identity = \n",
      " [[1. 0. 0. 0. 0.]\n",
      " [0. 1. 0. 0. 0.]\n",
      " [0. 0. 1. 0. 0.]\n",
      " [0. 0. 0. 1. 0.]\n",
      " [0. 0. 0. 0. 1.]]\n"
     ]
    }
   ],
   "source": [
    "## 단위 행렬, Identity\n",
    "I_3 = np.eye(3)\n",
    "print(\"3 x 3 Identity = \\n\", I_3)\n",
    "\n",
    "I_5 = np.eye(5)\n",
    "print(\"5 x 5 Identity = \\n\", I_5)\n"
   ]
  },
  {
   "cell_type": "code",
   "execution_count": 5,
   "metadata": {},
   "outputs": [
    {
     "name": "stdout",
     "output_type": "stream",
     "text": [
      "A = \n",
      " [[1 2 3 4]\n",
      " [5 6 7 8]]\n",
      "transpose A =  \n",
      " [[1 5]\n",
      " [2 6]\n",
      " [3 7]\n",
      " [4 8]]\n"
     ]
    }
   ],
   "source": [
    "# 전치 행렬, Matrix Transpose\n",
    "A = np.array([[1,2,3,4],\n",
    "            [5,6,7,8]], dtype = np.int64)\n",
    "print(\"A = \\n\", A)\n",
    "print(\"transpose A =  \\n\",A.T)  "
   ]
  },
  {
   "cell_type": "code",
   "execution_count": 7,
   "metadata": {},
   "outputs": [
    {
     "ename": "NameError",
     "evalue": "name 'AB' is not defined",
     "output_type": "error",
     "traceback": [
      "\u001b[1;31m---------------------------------------------------------------------------\u001b[0m",
      "\u001b[1;31mNameError\u001b[0m                                 Traceback (most recent call last)",
      "Cell \u001b[1;32mIn[7], line 7\u001b[0m\n\u001b[0;32m      2\u001b[0m A \u001b[38;5;241m=\u001b[39m np\u001b[38;5;241m.\u001b[39marray([[\u001b[38;5;241m1\u001b[39m, \u001b[38;5;241m2\u001b[39m]\n\u001b[0;32m      3\u001b[0m             , [\u001b[38;5;241m3\u001b[39m, \u001b[38;5;241m4\u001b[39m]])\n\u001b[0;32m      4\u001b[0m B \u001b[38;5;241m=\u001b[39m np\u001b[38;5;241m.\u001b[39marray([[\u001b[38;5;241m1\u001b[39m, \u001b[38;5;241m1\u001b[39m]\n\u001b[0;32m      5\u001b[0m             , [\u001b[38;5;241m1\u001b[39m, \u001b[38;5;241m2\u001b[39m]])\n\u001b[1;32m----> 7\u001b[0m \u001b[38;5;28mprint\u001b[39m(\u001b[38;5;124m\"\u001b[39m\u001b[38;5;124mAB = \u001b[39m\u001b[38;5;130;01m\\n\u001b[39;00m\u001b[38;5;124m\"\u001b[39m, \u001b[43mAB\u001b[49m)\n\u001b[0;32m      8\u001b[0m \u001b[38;5;28mprint\u001b[39m(\u001b[38;5;124m\"\u001b[39m\u001b[38;5;124mA x B = \u001b[39m\u001b[38;5;130;01m\\n\u001b[39;00m\u001b[38;5;124m\"\u001b[39m, np\u001b[38;5;241m.\u001b[39mmatmul(A, B))\n",
      "\u001b[1;31mNameError\u001b[0m: name 'AB' is not defined"
     ]
    }
   ],
   "source": [
    "## matrix multiplication\n",
    "A = np.array([[1, 2]\n",
    "            , [3, 4]])\n",
    "B = np.array([[1, 1]\n",
    "            , [1, 2]])\n",
    "\n",
    "print(\"AB = \\n\", AB)\n",
    "print(\"A x B = \\n\", np.matmul(A, B))"
   ]
  }
 ],
 "metadata": {
  "kernelspec": {
   "display_name": "base",
   "language": "python",
   "name": "python3"
  },
  "language_info": {
   "codemirror_mode": {
    "name": "ipython",
    "version": 3
   },
   "file_extension": ".py",
   "mimetype": "text/x-python",
   "name": "python",
   "nbconvert_exporter": "python",
   "pygments_lexer": "ipython3",
   "version": "3.12.4"
  }
 },
 "nbformat": 4,
 "nbformat_minor": 2
}
